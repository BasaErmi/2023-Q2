{
 "cells": [
  {
   "cell_type": "code",
   "execution_count": null,
   "id": "236f7e2c-60d1-4fa3-aee1-f5f5ffd9b8ad",
   "metadata": {
    "tags": []
   },
   "outputs": [],
   "source": [
    "from scipy import io\n",
    "from func import pca\n",
    "import numpy as np\n",
    "import matplotlib.pyplot as plt\n",
    "x=io.loadmat('Yale_64x64.mat')\n",
    "ins_perclass,class_number,train_test_split = 11,15,9\n",
    "input_dim=x['fea'].shape[1]\n",
    "feat=x['fea'].reshape(-1,ins_perclass,input_dim)\n",
    "label=x['gnd'].reshape(-1,ins_perclass)\n",
    "\n",
    "train_data,test_data = feat[:,:train_test_split,:].reshape(-1,input_dim),feat[:,train_test_split:,:].reshape(-1,input_dim)\n",
    "train_label,test_label = label[:,:train_test_split].reshape(-1),label[:,train_test_split:].reshape(-1)\n",
    "\n",
    "\"\"\"\n",
    "train_data和test_data的维度 = (num_samples, num_features)\n",
    "train_label和test_label的维度 = (num_samples, 1)\n",
    "\"\"\""
   ]
  },
  {
   "cell_type": "code",
   "execution_count": null,
   "id": "0827f298-f3b0-48e8-8d85-48c8ad42a537",
   "metadata": {
    "tags": []
   },
   "outputs": [],
   "source": [
    "\n",
    "\n",
    "def lda(X, y, n_components):\n",
    "    \"\"\"\n",
    "    LDA算法实现\n",
    "\n",
    "    参数:\n",
    "    X: numpy.ndarray, 输入数据，形状为 (样本数, 特征数)\n",
    "    y: numpy.ndarray, 类别标签，形状为 (样本数, 1)\n",
    "    n_components: int, 需要保留的投影维度\n",
    "\n",
    "    返回:\n",
    "    X_lda: numpy.ndarray, 降维后的数据\n",
    "    components: numpy.ndarray, 投影矩阵\n",
    "    \"\"\"\n",
    "    # 获取类别\n",
    "    class_labels = np.unique(y)\n",
    "    # 计算总体均值\n",
    "    mean_overall = np.mean(X, axis=0)\n",
    "\n",
    "    # 初始化类内散度矩阵和类间散度矩阵\n",
    "    S_W = np.zeros((X.shape[1], X.shape[1]))\n",
    "    S_B = np.zeros((X.shape[1], X.shape[1]))\n",
    "\n",
    "    for c in class_labels:\n",
    "        # 获取属于当前类别的样本\n",
    "        X_c = X[y == c]\n",
    "        # 计算当前类别的均值向量\n",
    "        mean_c = np.mean(X_c, axis=0)\n",
    "        # 计算类内散度矩阵\n",
    "        S_W += np.dot((X_c - mean_c).T, (X_c - mean_c))\n",
    "        # 计算类间散度矩阵\n",
    "        n_c = X_c.shape[0]\n",
    "        mean_diff = (mean_c - mean_overall).reshape(-1, 1)\n",
    "        S_B += n_c * np.dot(mean_diff, mean_diff.T)\n",
    "\n",
    "    # 计算 S_W^-1 * S_B\n",
    "    A = np.linalg.pinv(S_W).dot(S_B)\n",
    "\n",
    "    # 对矩阵 A 进行特征值分解\n",
    "    eigenvalues, eigenvectors = np.linalg.eigh(A)\n",
    "\n",
    "    # 按特征值从大到小排序\n",
    "    sorted_indices = np.argsort(eigenvalues)[::-1]\n",
    "    eigenvalues = eigenvalues[sorted_indices]\n",
    "    eigenvectors = eigenvectors[:, sorted_indices]\n",
    "\n",
    "    # 选择前 n_components 个特征向量\n",
    "    components = eigenvectors[:, :n_components]\n",
    "\n",
    "    # 将数据投影到新空间\n",
    "    X_lda = np.dot(X, components)\n",
    "\n",
    "    return X_lda, components"
   ]
  },
  {
   "cell_type": "code",
   "execution_count": null,
   "id": "f7aa4e58-978e-4010-953c-6f73708272ce",
   "metadata": {
    "tags": []
   },
   "outputs": [],
   "source": [
    "# 进行LDA降维，保留前8个主成分\n",
    "X_pca, eigVects = lda(train_data, train_label, 12)"
   ]
  },
  {
   "cell_type": "code",
   "execution_count": null,
   "id": "343860cd-aac1-4056-84d8-7bc9aa051cde",
   "metadata": {
    "tags": []
   },
   "outputs": [],
   "source": [
    "idx = [1, 3, 11, 4, 5, 7, 8, 9]\n",
    "# Plot the first 8 components as 64x64 images\n",
    "plt.figure(figsize=(12, 6))\n",
    "for i in range(8):\n",
    "    component_image = np.real(eigVects[:, idx[i]]).reshape(64, 64)\n",
    "    plt.subplot(2, 4, i + 1)\n",
    "    plt.imshow(np.rot90(component_image,-1), cmap='gray')\n",
    "    plt.title(f'Component {i + 1}')\n",
    "    plt.axis('off')\n",
    "\n",
    "plt.show()"
   ]
  },
  {
   "cell_type": "code",
   "execution_count": null,
   "id": "34a8cbdd-b9f6-412e-819b-1e838c894bca",
   "metadata": {
    "tags": []
   },
   "outputs": [],
   "source": [
    "eigVects_top2 = eigVects[:, :2]\n",
    "X_lda = np.dot(train_data, eigVects_top2)\n",
    "# 绘图\n",
    "from matplotlib.colors import ListedColormap\n",
    "cmap = plt.get_cmap('tab20', class_number)\n",
    "\n",
    "# 可视化降维后的训练和测试数据\n",
    "def plot_lda_2d(X, labels, title):\n",
    "    plt.figure(figsize=(10, 6))\n",
    "    c=0;\n",
    "    for label in np.unique(labels):\n",
    "        plt.scatter(X[labels == label, 0], X[labels == label, 1], label=f'Class {label}', color=cmap(c))\n",
    "        c = c+1\n",
    "    plt.xlabel('Principal Component 1')\n",
    "    plt.ylabel('Principal Component 2')\n",
    "    plt.title(title)\n",
    "    plt.legend()\n",
    "    plt.show()\n",
    "\n",
    "plot_lda_2d(X_lda, train_label, 'LDA of Training Data')"
   ]
  },
  {
   "cell_type": "code",
   "execution_count": null,
   "id": "48ead036-7553-4421-b3b6-06eda844ae1e",
   "metadata": {
    "tags": []
   },
   "outputs": [],
   "source": [
    "X_lda_test = np.dot(test_data, eigVects_top2)\n",
    "# 绘图\n",
    "from matplotlib.colors import ListedColormap\n",
    "cmap = plt.get_cmap('tab20', class_number)\n",
    "\n",
    "# 可视化降维后的训练和测试数据\n",
    "def plot_lda_2d(X, labels, title):\n",
    "    plt.figure(figsize=(10, 6))\n",
    "    c=0;\n",
    "    for label in np.unique(labels):\n",
    "        plt.scatter(X[labels == label, 0], X[labels == label, 1], label=f'Class {label}', color=cmap(c))\n",
    "        c = c+1\n",
    "    plt.xlabel('Principal Component 1')\n",
    "    plt.ylabel('Principal Component 2')\n",
    "    plt.title(title)\n",
    "    plt.legend()\n",
    "    plt.show()\n",
    "\n",
    "plot_lda_2d(X_lda_test, test_label, 'PCA of Training Data')"
   ]
  },
  {
   "cell_type": "code",
   "execution_count": null,
   "id": "869703bb-fd5f-45d2-b7aa-993ae5573730",
   "metadata": {
    "tags": []
   },
   "outputs": [],
   "source": [
    "plt.imshow(np.rot90(np.real(eigVects[:, 0]+50).reshape(64, 64), -1), cmap='gray')\n",
    "plt.show"
   ]
  },
  {
   "cell_type": "code",
   "execution_count": null,
   "id": "98ebe1b2-8d34-4313-8b69-0f50ef63f139",
   "metadata": {},
   "outputs": [],
   "source": []
  }
 ],
 "metadata": {
  "kernelspec": {
   "display_name": "Python 3 (ipykernel)",
   "language": "python",
   "name": "python3"
  },
  "language_info": {
   "codemirror_mode": {
    "name": "ipython",
    "version": 3
   },
   "file_extension": ".py",
   "mimetype": "text/x-python",
   "name": "python",
   "nbconvert_exporter": "python",
   "pygments_lexer": "ipython3",
   "version": "3.11.3"
  }
 },
 "nbformat": 4,
 "nbformat_minor": 5
}
